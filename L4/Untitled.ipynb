{
 "cells": [
  {
   "cell_type": "code",
   "execution_count": 1,
   "metadata": {},
   "outputs": [
    {
     "name": "stdout",
     "output_type": "stream",
     "text": [
      "Epoch 0, loss 14.015106576902816\n",
      "Epoch 100, loss 13.867578800806655\n",
      "Epoch 200, loss 13.864898101603433\n",
      "Epoch 300, loss 13.863777896768434\n",
      "Epoch 400, loss 13.862359110034824\n",
      "Epoch 500, loss 13.851617987274986\n",
      "Epoch 600, loss 13.338311231191017\n",
      "Epoch 700, loss 14.760541292919001\n",
      "Epoch 800, loss 8.80640664625471\n",
      "Epoch 900, loss 8.665539303999376\n",
      "Epoch 1000, loss 8.515372709082893\n",
      "Epoch 1100, loss 8.685366073867371\n",
      "Epoch 1200, loss 8.896578355395942\n",
      "Epoch 1300, loss 5.120442912235525\n",
      "Epoch 1400, loss 6.271391793936029\n",
      "Epoch 1500, loss 10.679463384965954\n",
      "Epoch 1600, loss 8.723995014689189\n",
      "Epoch 1700, loss 0.6396160516819794\n",
      "Epoch 1800, loss 0.29722209318167003\n",
      "Epoch 1900, loss 0.19286337918380397\n",
      "Epoch 2000, loss 0.1425815675683565\n",
      "Epoch 2100, loss 0.11304748840241532\n",
      "Epoch 2200, loss 0.093630783127247\n",
      "Epoch 2300, loss 0.07989820466797402\n",
      "Epoch 2400, loss 0.06967464764808666\n",
      "Epoch 2500, loss 0.06176852497908412\n",
      "Epoch 2600, loss 0.0554725952581187\n",
      "Epoch 2700, loss 0.050340681134852704\n",
      "Epoch 2800, loss 0.04607743672209781\n",
      "Epoch 2900, loss 0.04247960161839404\n",
      "Epoch 3000, loss 0.03940271909171242\n",
      "Epoch 3100, loss 0.03674131180183623\n",
      "Epoch 3200, loss 0.034416568833973704\n",
      "Epoch 3300, loss 0.03236842164650837\n",
      "Epoch 3400, loss 0.030550286496888766\n",
      "Epoch 3500, loss 0.0289254823056629\n",
      "Epoch 3600, loss 0.027464732582803415\n",
      "Epoch 3700, loss 0.026144387108985687\n",
      "Epoch 3800, loss 0.024945132552940535\n",
      "Epoch 3900, loss 0.023851042084786465\n",
      "Epoch 4000, loss 0.02284886438330825\n",
      "Epoch 4100, loss 0.021927484529070635\n",
      "Epoch 4200, loss 0.021077510186837102\n",
      "Epoch 4300, loss 0.02029095037741541\n",
      "Epoch 4400, loss 0.019560963541155406\n",
      "Epoch 4500, loss 0.01888165806200405\n",
      "Epoch 4600, loss 0.01824793293625359\n",
      "Epoch 4700, loss 0.017655349466983376\n",
      "Epoch 4800, loss 0.017100027157924476\n",
      "Epoch 4900, loss 0.016578558644526238\n",
      "Epoch 5000, loss 0.016087939721211444\n",
      "Epoch 5100, loss 0.015625511429357402\n",
      "Epoch 5200, loss 0.015188911848580297\n",
      "Epoch 5300, loss 0.01477603574617445\n",
      "Epoch 5400, loss 0.014385000629923744\n",
      "Epoch 5500, loss 0.014014118049346231\n",
      "Epoch 5600, loss 0.01366186922252133\n",
      "Epoch 5700, loss 0.013326884246540686\n",
      "Epoch 5800, loss 0.013007924291580531\n",
      "Epoch 5900, loss 0.012703866290727603\n",
      "Epoch 6000, loss 0.012413689726766776\n",
      "Epoch 6100, loss 0.0121364651883344\n",
      "Epoch 6200, loss 0.01187134442506711\n",
      "Epoch 6300, loss 0.01161755167756284\n",
      "Epoch 6400, loss 0.011374376095495853\n",
      "Epoch 6500, loss 0.011141165087823516\n",
      "Epoch 6600, loss 0.010917318474083696\n",
      "Epoch 6700, loss 0.010702283326407729\n",
      "Epoch 6800, loss 0.010495549408922656\n",
      "Epoch 6900, loss 0.010296645135352963\n",
      "Epoch 7000, loss 0.010105133977404509\n",
      "Epoch 7100, loss 0.009920611266349098\n",
      "Epoch 7200, loss 0.009742701338503365\n",
      "Epoch 7300, loss 0.009571054982205347\n",
      "Epoch 7400, loss 0.009405347149795117\n",
      "Epoch 7500, loss 0.009245274903044944\n",
      "Epoch 7600, loss 0.009090555564713049\n",
      "Epoch 7700, loss 0.008940925052504246\n",
      "Epoch 7800, loss 0.008796136374756885\n",
      "Epoch 7900, loss 0.008655958269855853\n",
      "Epoch 8000, loss 0.008520173973577622\n",
      "Epoch 8100, loss 0.00838858010057194\n",
      "Epoch 8200, loss 0.008260985627826128\n",
      "Epoch 8300, loss 0.008137210969417356\n",
      "Epoch 8400, loss 0.008017087133157783\n",
      "Epoch 8500, loss 0.007900454950767393\n",
      "Epoch 8600, loss 0.007787164374221913\n",
      "Epoch 8700, loss 0.007677073831729182\n",
      "Epoch 8800, loss 0.00757004963751602\n",
      "Epoch 8900, loss 0.00746596545025851\n",
      "Epoch 9000, loss 0.007364701775538302\n",
      "Epoch 9100, loss 0.007266145508203035\n",
      "Epoch 9200, loss 0.007170189510955469\n",
      "Epoch 9300, loss 0.007076732225854526\n",
      "Epoch 9400, loss 0.0069856773157834\n",
      "Epoch 9500, loss 0.006896933333207958\n",
      "Epoch 9600, loss 0.006810413413843716\n",
      "Epoch 9700, loss 0.006726034993067124\n",
      "Epoch 9800, loss 0.006643719543126782\n",
      "Epoch 9900, loss 0.006563392329391264\n"
     ]
    }
   ],
   "source": [
    "# -*- coding: utf-8 -*-\n",
    "\"\"\"\n",
    "Created on Thu Mar 14 14:37:33 2019\n",
    "\n",
    "@author: DELL\n",
    "\"\"\"\n",
    "\n",
    "# Thêm thư viện\n",
    "import numpy as np\n",
    "import pandas as pd\n",
    "\n",
    "# Hàm sigmoid\n",
    "def sigmoid(x):\n",
    "        return 1/(1+np.exp(-x))\n",
    " \n",
    "   \n",
    "# Đạo hàm hàm sigmoid\n",
    "def sigmoid_derivative(x):\n",
    "        return x*(1-x)\n",
    "\n",
    "\n",
    "# Lớp neural network\n",
    "class NeuralNetwork:\n",
    "    def __init__(self, layers, alpha=0.1):\n",
    "\t\t# Mô hình layer ví dụ [2,2,1]\n",
    "      self.layers = layers \n",
    "      \n",
    "      # Hệ số learning rate\n",
    "      self.alpha = alpha\n",
    "\t\t\n",
    "      # Tham số W, b\n",
    "      self.W = []\n",
    "      self.b = []\n",
    "      \n",
    "      # Khởi tạo các tham số ở mỗi layer\n",
    "      for i in range(0, len(layers)-1):\n",
    "            w_ = np.random.randn(layers[i], layers[i+1])\n",
    "            b_ = np.zeros((layers[i+1], 1))\n",
    "            self.W.append(w_/layers[i])\n",
    "            self.b.append(b_)\n",
    "            \n",
    "    \n",
    "\t# Tóm tắt mô hình neural network\n",
    "    def __repr__(self):\n",
    "        return \"Neural network [{}]\".format(\"-\".join(str(l) for l in self.layers))\n",
    "    \n",
    "\t\n",
    "\t# Train mô hình với dữ liệu\n",
    "    def fit_partial(self, x, y):\n",
    "        A = [x]\n",
    "        \n",
    "        # quá trình feedforward\n",
    "        out = A[-1]\n",
    "        for i in range(0, len(self.layers) - 1):\n",
    "            out = sigmoid(np.dot(out, self.W[i]) + (self.b[i].T))\n",
    "            A.append(out)\n",
    "        \n",
    "        # quá trình backpropagation\n",
    "        y = y.reshape(-1, 1)\n",
    "        dA = [-(y/A[-1] - (1-y)/(1-A[-1]))]\n",
    "        dW = []\n",
    "        db = []\n",
    "        for i in reversed(range(0, len(self.layers)-1)):\n",
    "            dw_ = np.dot((A[i]).T, dA[-1] * sigmoid_derivative(A[i+1]))\n",
    "            db_ = (np.sum(dA[-1] * sigmoid_derivative(A[i+1]), 0)).reshape(-1,1)\n",
    "            dA_ = np.dot(dA[-1] * sigmoid_derivative(A[i+1]), self.W[i].T)\n",
    "            dW.append(dw_)\n",
    "            db.append(db_)\n",
    "            dA.append(dA_)\n",
    "        \n",
    "        # Đảo ngược dW, db\n",
    "        dW = dW[::-1]\n",
    "        db = db[::-1]\n",
    "        \n",
    "\t\t# Gradient descent\n",
    "        for i in range(0, len(self.layers)-1):\n",
    "            self.W[i] = self.W[i] - self.alpha * dW[i]\n",
    "            self.b[i] = self.b[i] - self.alpha * db[i]\n",
    "      \n",
    "    def fit(self, X, y, epochs=20, verbose=10):\n",
    "        for epoch in range(0, epochs):\n",
    "            self.fit_partial(X, y)\n",
    "            if epoch % verbose == 0:\n",
    "                loss = self.calculate_loss(X, y)\n",
    "                print(\"Epoch {}, loss {}\".format(epoch, loss))\n",
    "    \n",
    "\t# Dự đoán\n",
    "    def predict(self, X):\n",
    "        for i in range(0, len(self.layers) - 1):\n",
    "            X = sigmoid(np.dot(X, self.W[i]) + (self.b[i].T))\n",
    "        return X\n",
    "\n",
    "\t# Tính loss function\n",
    "    def calculate_loss(self, X, y):\n",
    "        y_predict = self.predict(X)\n",
    "        #return np.sum((y_predict-y)**2)/2\n",
    "        return -(np.sum(y*np.log(y_predict) + (1-y)*np.log(1-y_predict))) \n",
    "        \n",
    "# Dataset bài 2\n",
    "data = pd.read_csv('dataset.csv').values\n",
    "N, d = data.shape\n",
    "X = data[:, 0:d-1].reshape(-1, d-1)\n",
    "y = data[:, 2].reshape(-1, 1)\n",
    "\n",
    "p = NeuralNetwork([X.shape[1], 2, 1], 0.1)\n",
    "p.fit(X, y, 10000, 100)\n"
   ]
  },
  {
   "cell_type": "code",
   "execution_count": 2,
   "metadata": {},
   "outputs": [
    {
     "name": "stdout",
     "output_type": "stream",
     "text": [
      "2\n"
     ]
    }
   ],
   "source": [
    "data = pd.read_csv('dataset.csv').values\n",
    "N, d = data.shape\n",
    "X = data[:, 0:d-1].reshape(-1, d-1)\n",
    "y = data[:, 2].reshape(-1, 1)\n",
    "\n",
    "#p = NeuralNetwork([X.shape[1], 2, 1], 0.1)\n",
    "#p.fit(X, y, 10000, 100)\n",
    "\n",
    "print(X.shape[1])"
   ]
  },
  {
   "cell_type": "code",
   "execution_count": 3,
   "metadata": {},
   "outputs": [
    {
     "name": "stdout",
     "output_type": "stream",
     "text": [
      "(20, 2)\n"
     ]
    }
   ],
   "source": [
    "print(X.shape)"
   ]
  },
  {
   "cell_type": "code",
   "execution_count": 3,
   "metadata": {},
   "outputs": [
    {
     "name": "stdout",
     "output_type": "stream",
     "text": [
      "[[10.    1.    1.  ]\n",
      " [ 5.    2.    1.  ]\n",
      " [ 6.    1.8   1.  ]\n",
      " [ 7.    1.    1.  ]\n",
      " [ 8.    2.    1.  ]\n",
      " [ 9.    0.5   1.  ]\n",
      " [ 4.    3.    1.  ]\n",
      " [ 5.    2.5   1.  ]\n",
      " [ 8.    1.    1.  ]\n",
      " [ 4.    2.5   1.  ]\n",
      " [ 8.    0.1   0.  ]\n",
      " [ 7.    0.15  0.  ]\n",
      " [ 4.    1.    0.  ]\n",
      " [ 5.    0.8   0.  ]\n",
      " [ 7.    0.3   0.  ]\n",
      " [ 4.    1.    0.  ]\n",
      " [ 5.    0.5   0.  ]\n",
      " [ 6.    0.3   0.  ]\n",
      " [ 7.    0.2   0.  ]\n",
      " [ 8.    0.15  0.  ]]\n"
     ]
    }
   ],
   "source": [
    "print(data)"
   ]
  },
  {
   "cell_type": "code",
   "execution_count": 5,
   "metadata": {},
   "outputs": [
    {
     "name": "stdout",
     "output_type": "stream",
     "text": [
      "[[10.    1.  ]\n",
      " [ 5.    2.  ]\n",
      " [ 6.    1.8 ]\n",
      " [ 7.    1.  ]\n",
      " [ 8.    2.  ]\n",
      " [ 9.    0.5 ]\n",
      " [ 4.    3.  ]\n",
      " [ 5.    2.5 ]\n",
      " [ 8.    1.  ]\n",
      " [ 4.    2.5 ]\n",
      " [ 8.    0.1 ]\n",
      " [ 7.    0.15]\n",
      " [ 4.    1.  ]\n",
      " [ 5.    0.8 ]\n",
      " [ 7.    0.3 ]\n",
      " [ 4.    1.  ]\n",
      " [ 5.    0.5 ]\n",
      " [ 6.    0.3 ]\n",
      " [ 7.    0.2 ]\n",
      " [ 8.    0.15]]\n"
     ]
    }
   ],
   "source": [
    "print(data[:, 0:d-1])\n"
   ]
  },
  {
   "cell_type": "code",
   "execution_count": 6,
   "metadata": {},
   "outputs": [
    {
     "name": "stdout",
     "output_type": "stream",
     "text": [
      "[[10.    1.  ]\n",
      " [ 5.    2.  ]\n",
      " [ 6.    1.8 ]\n",
      " [ 7.    1.  ]\n",
      " [ 8.    2.  ]\n",
      " [ 9.    0.5 ]\n",
      " [ 4.    3.  ]\n",
      " [ 5.    2.5 ]\n",
      " [ 8.    1.  ]\n",
      " [ 4.    2.5 ]\n",
      " [ 8.    0.1 ]\n",
      " [ 7.    0.15]\n",
      " [ 4.    1.  ]\n",
      " [ 5.    0.8 ]\n",
      " [ 7.    0.3 ]\n",
      " [ 4.    1.  ]\n",
      " [ 5.    0.5 ]\n",
      " [ 6.    0.3 ]\n",
      " [ 7.    0.2 ]\n",
      " [ 8.    0.15]]\n"
     ]
    }
   ],
   "source": [
    "print(data[:, 0:d-1].reshape(-1, d-1))"
   ]
  },
  {
   "cell_type": "code",
   "execution_count": 7,
   "metadata": {},
   "outputs": [
    {
     "name": "stdout",
     "output_type": "stream",
     "text": [
      "(20, 3)\n"
     ]
    }
   ],
   "source": [
    "print(data.shape)"
   ]
  },
  {
   "cell_type": "code",
   "execution_count": 8,
   "metadata": {},
   "outputs": [
    {
     "data": {
      "text/plain": [
       "array([[10.  ,  1.  ,  1.  ],\n",
       "       [ 5.  ,  2.  ,  1.  ],\n",
       "       [ 6.  ,  1.8 ,  1.  ],\n",
       "       [ 7.  ,  1.  ,  1.  ],\n",
       "       [ 8.  ,  2.  ,  1.  ],\n",
       "       [ 9.  ,  0.5 ,  1.  ],\n",
       "       [ 4.  ,  3.  ,  1.  ],\n",
       "       [ 5.  ,  2.5 ,  1.  ],\n",
       "       [ 8.  ,  1.  ,  1.  ],\n",
       "       [ 4.  ,  2.5 ,  1.  ],\n",
       "       [ 8.  ,  0.1 ,  0.  ],\n",
       "       [ 7.  ,  0.15,  0.  ],\n",
       "       [ 4.  ,  1.  ,  0.  ],\n",
       "       [ 5.  ,  0.8 ,  0.  ],\n",
       "       [ 7.  ,  0.3 ,  0.  ],\n",
       "       [ 4.  ,  1.  ,  0.  ],\n",
       "       [ 5.  ,  0.5 ,  0.  ],\n",
       "       [ 6.  ,  0.3 ,  0.  ],\n",
       "       [ 7.  ,  0.2 ,  0.  ],\n",
       "       [ 8.  ,  0.15,  0.  ]])"
      ]
     },
     "execution_count": 8,
     "metadata": {},
     "output_type": "execute_result"
    }
   ],
   "source": [
    "data"
   ]
  },
  {
   "cell_type": "code",
   "execution_count": null,
   "metadata": {},
   "outputs": [],
   "source": []
  }
 ],
 "metadata": {
  "kernelspec": {
   "display_name": "Python 3",
   "language": "python",
   "name": "python3"
  },
  "language_info": {
   "codemirror_mode": {
    "name": "ipython",
    "version": 3
   },
   "file_extension": ".py",
   "mimetype": "text/x-python",
   "name": "python",
   "nbconvert_exporter": "python",
   "pygments_lexer": "ipython3",
   "version": "3.7.1"
  }
 },
 "nbformat": 4,
 "nbformat_minor": 2
}
