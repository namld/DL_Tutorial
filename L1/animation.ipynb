{
 "cells": [
  {
   "cell_type": "code",
   "execution_count": 2,
   "metadata": {},
   "outputs": [
    {
     "data": {
      "image/png": "[encoded data removed]",
      "text/plain": [
       "<Figure size 432x288 with 1 Axes>"
      ]
     },
     "metadata": {
      "needs_background": "light"
     },
     "output_type": "display_data"
    }
   ],
   "source": [
    "import numpy as np\n",
    "import matplotlib.pyplot as plt\n",
    "import matplotlib.animation as animation\n",
    "\n",
    "# Create initial data\n",
    "data = np.array([[1,2,3,4,5], [7,4,9,2,3]])\n",
    "\n",
    "# Create figure and axes\n",
    "fig = plt.figure()\n",
    "ax = plt.axes(xlim=(0, 20), ylim=(0, 20))\n",
    "\n",
    "# Create initial objects\n",
    "line, = ax.plot([], [], 'r-')\n",
    "annotation = ax.annotate('A0', xy=(data[0][0], data[1][0]))\n",
    "annotation.set_animated(True)\n",
    "\n",
    "# Create the init function that returns the objects\n",
    "# that will change during the animation process\n",
    "def init():\n",
    "    return line, annotation\n",
    "\n",
    "# Create the update function that returns all the\n",
    "# objects that have changed\n",
    "def update(num):\n",
    "    newData = np.array([[1 + num, 2 + num / 2, 3, 4 - num / 4, 5 + num],\n",
    "                        [7, 4, 9 + num / 3, 2, 3]])\n",
    "    line.set_data(newData)\n",
    "    # This is not working i 1.2.1\n",
    "    # annotation.set_position((newData[0][0], newData[1][0]))\n",
    "    annotation.xytext = (newData[0][0], newData[1][0])\n",
    "    return line, annotation\n",
    "\n",
    "anim = animation.FuncAnimation(fig, update, frames=25, init_func=init,\n",
    "                               interval=200, blit=True)\n",
    "plt.show()"
   ]
  },
  {
   "cell_type": "code",
   "execution_count": null,
   "metadata": {},
   "outputs": [],
   "source": [
    "import matplotlib.pyplot as plt\n",
    "import numpy as np\n",
    "import matplotlib.animation as animation\n",
    "\n",
    "fig, ax = plt.subplots()\n",
    "\n",
    "ax.set_xlim([-1,1])\n",
    "ax.set_ylim([-1,1])\n",
    "\n",
    "L = 50\n",
    "theta = np.linspace(0,2*np.pi,L)\n",
    "r = np.ones_like(theta)\n",
    "\n",
    "x = r*np.cos(theta)\n",
    "y = r*np.sin(theta)\n",
    "\n",
    "line, = ax.plot(1,0, 'ro')\n",
    "\n",
    "annotation = ax.annotate(\n",
    "    'annotation', xy=(1,0), xytext=(-1,0),\n",
    "    arrowprops = {'arrowstyle': \"->\"}\n",
    ")\n",
    "\n",
    "def update(i):\n",
    "\n",
    "    new_x = x[i%L]\n",
    "    new_y = y[i%L]\n",
    "    line.set_data(new_x,new_y)\n",
    "\n",
    "    ##annotation.xytext = (-new_x,-new_y) <-- does not work\n",
    "    annotation.set_position((-new_x,-new_y))\n",
    "    annotation.xy = (new_x,new_y)\n",
    "\n",
    "    return line, annotation\n",
    "\n",
    "ani = animation.FuncAnimation(\n",
    "    fig, update, interval = 500, blit = False\n",
    ")\n",
    "\n",
    "plt.show()"
   ]
  },
  {
   "cell_type": "code",
   "execution_count": 3,
   "metadata": {},
   "outputs": [
    {
     "data": {
      "image/png": "[encoded data removed]",
      "text/plain": [
       "<Figure size 432x288 with 1 Axes>"
      ]
     },
     "metadata": {
      "needs_background": "light"
     },
     "output_type": "display_data"
    }
   ],
   "source": [
    "\"\"\"\n",
    "Matplotlib Animation Example\n",
    "\n",
    "author: Jake Vanderplas\n",
    "email: vanderplas@astro.washington.edu\n",
    "website: http://jakevdp.github.com\n",
    "license: BSD\n",
    "Please feel free to use and modify this, but keep the above information. Thanks!\n",
    "\"\"\"\n",
    "\n",
    "import numpy as np\n",
    "from matplotlib import pyplot as plt\n",
    "from matplotlib import animation\n",
    "\n",
    "# First set up the figure, the axis, and the plot element we want to animate\n",
    "fig = plt.figure()\n",
    "ax = plt.axes(xlim=(0, 2), ylim=(-2, 2))\n",
    "line, = ax.plot([], [], lw=2)\n",
    "\n",
    "# initialization function: plot the background of each frame\n",
    "def init():\n",
    "    line.set_data([], [])\n",
    "    return line,\n",
    "\n",
    "# animation function.  This is called sequentially\n",
    "def animate(i):\n",
    "    x = np.linspace(0, 2, 1000)\n",
    "    y = np.sin(2 * np.pi * (x - 0.01 * i))\n",
    "    line.set_data(x, y)\n",
    "    return line,\n",
    "\n",
    "# call the animator.  blit=True means only re-draw the parts that have changed.\n",
    "anim = animation.FuncAnimation(fig, animate, init_func=init,\n",
    "                               frames=200, interval=20, blit=True)\n",
    "\n",
    "# save the animation as an mp4.  This requires ffmpeg or mencoder to be\n",
    "# installed.  The extra_args ensure that the x264 codec is used, so that\n",
    "# the video can be embedded in html5.  You may need to adjust this for\n",
    "# your system: for more information, see\n",
    "# http://matplotlib.sourceforge.net/api/animation_api.html\n",
    "anim.save('basic_animation.mp4', fps=30, extra_args=['-vcodec', 'libx264'])\n",
    "\n",
    "plt.show()"
   ]
  },
  {
   "cell_type": "code",
   "execution_count": null,
   "metadata": {},
   "outputs": [],
   "source": []
  }
 ],
 "metadata": {
  "kernelspec": {
   "display_name": "Python 3",
   "language": "python",
   "name": "python3"
  },
  "language_info": {
   "codemirror_mode": {
    "name": "ipython",
    "version": 3
   },
   "file_extension": ".py",
   "mimetype": "text/x-python",
   "name": "python",
   "nbconvert_exporter": "python",
   "pygments_lexer": "ipython3",
   "version": "3.7.1"
  }
 },
 "nbformat": 4,
 "nbformat_minor": 2
}
