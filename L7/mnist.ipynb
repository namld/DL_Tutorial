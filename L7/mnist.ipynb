{
 "cells": [
  {
   "cell_type": "code",
   "execution_count": 1,
   "metadata": {
    "colab": {
     "base_uri": "https://localhost:8080/",
     "height": 34
    },
    "colab_type": "code",
    "id": "hIArylcR3KOZ",
    "outputId": "ee3b6b52-83f5-4273-a586-c95d5981a10b"
   },
   "outputs": [
    {
     "name": "stderr",
     "output_type": "stream",
     "text": [
      "Using TensorFlow backend.\n"
     ]
    }
   ],
   "source": [
    "# 1. Thêm các thư viện cần thiết\n",
    "import numpy as np\n",
    "import matplotlib.pyplot as plt\n",
    "from keras.models import Sequential\n",
    "from keras.layers import Dense, Dropout, Activation, Flatten\n",
    "from keras.layers import Conv2D, MaxPooling2D\n",
    "from keras.utils import np_utils\n",
    "from keras.datasets import mnist"
   ]
  },
  {
   "cell_type": "markdown",
   "metadata": {
    "colab_type": "text",
    "id": "MZMLgpcY3b7G"
   },
   "source": [
    "Load dữ liệu từ MNIST dataset, bao gồm 60.000 training set và 10.000 test set. Sau đó chia bộ traning set thành 2: 50.000 cho training set và 10.000 dữ liệu cho validation set."
   ]
  },
  {
   "cell_type": "code",
   "execution_count": 3,
   "metadata": {
    "colab": {
     "base_uri": "https://localhost:8080/",
     "height": 34
    },
    "colab_type": "code",
    "id": "IYP0FcDeRnJO",
    "outputId": "c907c963-c9ae-4215-87c5-4cf1b114f645"
   },
   "outputs": [
    {
     "name": "stdout",
     "output_type": "stream",
     "text": [
      "(50000, 28, 28)\n"
     ]
    }
   ],
   "source": [
    "# 2. Load dữ liệu MNIST\n",
    "(X_train, y_train), (X_test, y_test) = mnist.load_data()\n",
    "X_val, y_val = X_train[50000:60000,:], y_train[50000:60000]\n",
    "X_train, y_train = X_train[:50000,:], y_train[:50000]\n",
    "print(X_train.shape)"
   ]
  },
  {
   "cell_type": "markdown",
   "metadata": {
    "colab_type": "text",
    "id": "jIEIibrB4LDb"
   },
   "source": [
    "Dữ liệu input cho mô hình convolutional neural network là 1 tensor 4 chiều (N, W, H, D), trong bài này là ảnh xám nên W = H = 28, D = 1, N là số lượng ảnh cho mỗi lần training. Do dữ liệu ảnh ở trên có kích thước là (N, 28, 28) tức là (N, W, H) nên rần reshape lại thành kích thước N * 28 * 28 * 1 để giống kích thước mà keras yêu cầu."
   ]
  },
  {
   "cell_type": "code",
   "execution_count": 4,
   "metadata": {
    "colab": {},
    "colab_type": "code",
    "id": "cfFUzBFcRot6"
   },
   "outputs": [
    {
     "name": "stdout",
     "output_type": "stream",
     "text": [
      "(50000, 28, 28, 1)\n"
     ]
    }
   ],
   "source": [
    "# 3. Reshape lại dữ liệu cho đúng kích thước mà keras yêu cầu\n",
    "X_train = X_train.reshape(X_train.shape[0], 28, 28, 1)\n",
    "X_val = X_val.reshape(X_val.shape[0], 28, 28, 1)\n",
    "X_test = X_test.reshape(X_test.shape[0], 28, 28, 1)\n",
    "\n",
    "print(X_train.shape)"
   ]
  },
  {
   "cell_type": "markdown",
   "metadata": {
    "colab_type": "text",
    "id": "FifpZK_b7KvJ"
   },
   "source": [
    "Bước này chuyển đổi one-hot encoding label Y của ảnh ví dụ số 5 thành vector [0, 0, 0, 0, 0, 1, 0, 0, 0, 0]"
   ]
  },
  {
   "cell_type": "code",
   "execution_count": 5,
   "metadata": {
    "colab": {
     "base_uri": "https://localhost:8080/",
     "height": 50
    },
    "colab_type": "code",
    "id": "OHwO1pw6RsA9",
    "outputId": "5f9165db-c4ba-4778-aca2-ac43a1e75794"
   },
   "outputs": [
    {
     "name": "stdout",
     "output_type": "stream",
     "text": [
      "Dữ liệu y ban đầu  5\n",
      "Dữ liệu y sau one-hot encoding  [0. 0. 0. 0. 0. 1. 0. 0. 0. 0.]\n"
     ]
    }
   ],
   "source": [
    "# 4. One hot encoding label (Y)\n",
    "Y_train = np_utils.to_categorical(y_train, 10)\n",
    "Y_val = np_utils.to_categorical(y_val, 10)\n",
    "Y_test = np_utils.to_categorical(y_test, 10)\n",
    "print('Dữ liệu y ban đầu ', y_train[0])\n",
    "print('Dữ liệu y sau one-hot encoding ',Y_train[0])"
   ]
  },
  {
   "cell_type": "markdown",
   "metadata": {
    "colab_type": "text",
    "id": "LuoSHJ1m7uUQ"
   },
   "source": [
    "Bước này định nghĩa model:\n",
    "1. Model = Sequential() để nói cho keras là ta sẽ xếp các layer lên nhau để tạo model. Ví dụ input -> CONV -> POOL -> CONV -> POOL -> FLATTEN -> FC -> OUTPUT\n",
    "2.  Ở layer đầu tiên cần chỉ rõ input_shape của ảnh, input_shape = (W, H, D), ta dùng ảnh xám kích thước (28,28) nên input_shape = (28, 28, 1)\n",
    "3. Khi thêm Convolutional Layer ta cần chỉ rõ các tham số: K (số lượng layer), kernel size (W, H), hàm activation sử dụng. cấu trúc: model.add(Conv2D(K, (W, H), activation='tên_hàm_activation'))\n",
    "4. Khi thêm Maxpooling Layer cần chỉ rõ size của kernel, model.add(MaxPooling2D(pool_size=(W, H)))\n",
    "5. Bước Flatten chuyển từ tensor sang vector chỉ cần thêm flatten layer.\n",
    "6. Để thêm Fully Connected Layer (FC) cần chỉ rõ số lượng node trong layer và hàm activation sử dụng trong layer, cấu trúc: model.add(Dense(số_lượng_node activation='tên_hàm activation'))\n"
   ]
  },
  {
   "cell_type": "code",
   "execution_count": 9,
   "metadata": {
    "colab": {
     "base_uri": "https://localhost:8080/",
     "height": 87
    },
    "colab_type": "code",
    "id": "YhER3pYeRtjC",
    "outputId": "bf4676d3-d716-4300-e789-aa66b6270574"
   },
   "outputs": [],
   "source": [
    "# 5. Định nghĩa model\n",
    "model = Sequential()\n",
    " \n",
    "# Thêm Convolutional layer với 32 kernel, kích thước kernel 3*3\n",
    "# dùng hàm sigmoid làm activation và chỉ rõ input_shape cho layer đầu tiên\n",
    "model.add(Conv2D(32, (3, 3), activation='sigmoid', input_shape=(28,28,1)))\n",
    "\n",
    "# Thêm Convolutional layer\n",
    "model.add(Conv2D(32, (3, 3), activation='sigmoid'))\n",
    "\n",
    "# Thêm Max pooling layer\n",
    "model.add(MaxPooling2D(pool_size=(2,2)))\n",
    "\n",
    "# Flatten layer chuyển từ tensor sang vector\n",
    "model.add(Flatten())\n",
    "\n",
    "# Thêm Fully Connected layer với 128 nodes và dùng hàm sigmoid\n",
    "model.add(Dense(128, activation='sigmoid'))\n",
    "\n",
    "# Output layer với 10 node và dùng softmax function để chuyển sang xác xuất.\n",
    "model.add(Dense(10, activation='softmax'))"
   ]
  },
  {
   "cell_type": "code",
   "execution_count": 10,
   "metadata": {
    "colab": {},
    "colab_type": "code",
    "id": "T37UmXrzRvfT"
   },
   "outputs": [],
   "source": [
    "# 6. Compile model, chỉ rõ hàm loss_function nào được sử dụng, phương thức \n",
    "# đùng để tối ưu hàm loss function.\n",
    "model.compile(loss='categorical_crossentropy',\n",
    "              optimizer='adam',\n",
    "              metrics=['accuracy'])"
   ]
  },
  {
   "cell_type": "code",
   "execution_count": 15,
   "metadata": {
    "colab": {
     "base_uri": "https://localhost:8080/",
     "height": 440
    },
    "colab_type": "code",
    "id": "u8oF7cHeRwoM",
    "outputId": "7db6801e-cd87-4330-9b93-3513b87b55e3"
   },
   "outputs": [
    {
     "name": "stdout",
     "output_type": "stream",
     "text": [
      "Train on 50000 samples, validate on 10000 samples\n",
      "Epoch 1/10\n",
      "50000/50000 [==============================] - 37s 741us/step - loss: 0.0220 - accuracy: 0.9924 - val_loss: 0.0445 - val_accuracy: 0.9885\n",
      "Epoch 2/10\n",
      "50000/50000 [==============================] - 37s 735us/step - loss: 0.0108 - accuracy: 0.9965 - val_loss: 0.0451 - val_accuracy: 0.9872\n",
      "Epoch 3/10\n",
      "50000/50000 [==============================] - 41s 811us/step - loss: 0.0103 - accuracy: 0.9965 - val_loss: 0.0490 - val_accuracy: 0.9873\n",
      "Epoch 4/10\n",
      "50000/50000 [==============================] - 36s 725us/step - loss: 0.0080 - accuracy: 0.9970 - val_loss: 0.0519 - val_accuracy: 0.9874\n",
      "Epoch 5/10\n",
      "50000/50000 [==============================] - 37s 738us/step - loss: 0.0073 - accuracy: 0.9976 - val_loss: 0.0534 - val_accuracy: 0.9873\n",
      "Epoch 6/10\n",
      "50000/50000 [==============================] - 36s 730us/step - loss: 0.0079 - accuracy: 0.9970 - val_loss: 0.0492 - val_accuracy: 0.9883\n",
      "Epoch 7/10\n",
      "50000/50000 [==============================] - 38s 756us/step - loss: 0.0045 - accuracy: 0.9984 - val_loss: 0.0512 - val_accuracy: 0.9888\n",
      "Epoch 8/10\n",
      "50000/50000 [==============================] - 40s 798us/step - loss: 0.0049 - accuracy: 0.9983 - val_loss: 0.0544 - val_accuracy: 0.9874\n",
      "Epoch 9/10\n",
      "50000/50000 [==============================] - 36s 718us/step - loss: 0.0043 - accuracy: 0.9984 - val_loss: 0.0482 - val_accuracy: 0.9890\n",
      "Epoch 10/10\n",
      "50000/50000 [==============================] - 36s 725us/step - loss: 0.0033 - accuracy: 0.9990 - val_loss: 0.0510 - val_accuracy: 0.9883\n"
     ]
    }
   ],
   "source": [
    "# 7. Thực hiện train model với data\n",
    "H = model.fit(X_train, Y_train, validation_data=(X_val, Y_val),\n",
    "          batch_size=8, epochs=10, verbose=1)"
   ]
  },
  {
   "cell_type": "code",
   "execution_count": 16,
   "metadata": {
    "colab": {
     "base_uri": "https://localhost:8080/",
     "height": 393
    },
    "colab_type": "code",
    "id": "NkITk_WEYc2R",
    "outputId": "efa7428c-1001-4904-af44-35a26a9f047d"
   },
   "outputs": [
    {
     "name": "stdout",
     "output_type": "stream",
     "text": [
      "{'val_loss': [0.04446721846364062, 0.04514504735692385, 0.04901999352693596, 0.05189334638224671, 0.053415908523510094, 0.04916685011485125, 0.05124253238813866, 0.05435466754098047, 0.048198140513785404, 0.05100264547764672], 'val_accuracy': [0.9884999990463257, 0.9872000217437744, 0.9872999787330627, 0.9873999953269958, 0.9872999787330627, 0.9883000254631042, 0.9887999892234802, 0.9873999953269958, 0.9890000224113464, 0.9883000254631042], 'loss': [0.02201807846149191, 0.010772941089264932, 0.01034457693972498, 0.00799312194965527, 0.007300775146317371, 0.007946131614730298, 0.0044708360009063355, 0.004857638417899732, 0.004296997242296111, 0.0032663479458210397], 'accuracy': [0.99244, 0.9965, 0.99652, 0.99698, 0.99762, 0.99702, 0.99836, 0.9983, 0.99844, 0.99904]}\n"
     ]
    },
    {
     "data": {
      "image/png": "[encoded data removed]",
      "text/plain": [
       "<Figure size 432x288 with 1 Axes>"
      ]
     },
     "metadata": {
      "needs_background": "light"
     },
     "output_type": "display_data"
    }
   ],
   "source": [
    "# 8. Vẽ đồ thị loss, accuracy của traning set và validation set\n",
    "fig = plt.figure()\n",
    "numOfEpoch = 10\n",
    "plt.plot(np.arange(0, numOfEpoch), H.history['loss'], label='training loss')\n",
    "plt.plot(np.arange(0, numOfEpoch), H.history['val_loss'], label='validation loss')\n",
    "plt.plot(np.arange(0, numOfEpoch), H.history['accuracy'], label='accuracy')\n",
    "plt.plot(np.arange(0, numOfEpoch), H.history['val_accuracy'], label='validation accuracy')\n",
    "plt.title('Accuracy and Loss')\n",
    "plt.xlabel('Epoch')\n",
    "plt.ylabel('Loss|Accuracy')\n",
    "plt.legend()\n",
    "\n",
    "print(H.history)"
   ]
  },
  {
   "cell_type": "code",
   "execution_count": 10,
   "metadata": {
    "colab": {
     "base_uri": "https://localhost:8080/",
     "height": 34
    },
    "colab_type": "code",
    "id": "mvRM2M6NRy9Q",
    "outputId": "a01fbf3b-976f-476b-feae-f7e67bdfd634"
   },
   "outputs": [
    {
     "name": "stdout",
     "output_type": "stream",
     "text": [
      "[0.032483320263205676, 0.9911999702453613]\n"
     ]
    }
   ],
   "source": [
    "# 9. Đánh giá model với dữ liệu test set\n",
    "score = model.evaluate(X_test, Y_test, verbose=0)\n",
    "print(score)"
   ]
  },
  {
   "cell_type": "markdown",
   "metadata": {
    "colab_type": "text",
    "id": "lgAVysTefR5Q"
   },
   "source": [
    "Ta sẽ dùng kết quả đánh giá của mode với test set để làm kết quả cuối cùng của model. Tức model của chúng ta dữ đoán chữ số có độ chính xác 98.92% với MNIST dataset. Nghĩa là dự đoán khoảng 100 ảnh thì sai 1 ảnh."
   ]
  },
  {
   "cell_type": "code",
   "execution_count": 11,
   "metadata": {
    "colab": {
     "base_uri": "https://localhost:8080/",
     "height": 364
    },
    "colab_type": "code",
    "id": "y25mu5OTYG4d",
    "outputId": "8214104c-a382-47a2-c911-5c496f7bc1b9"
   },
   "outputs": [
    {
     "name": "stdout",
     "output_type": "stream",
     "text": [
      "Giá trị dự đoán:  7\n"
     ]
    },
    {
     "data": {
      "image/png": "[encoded data removed]",
      "text/plain": [
       "<Figure size 432x288 with 1 Axes>"
      ]
     },
     "metadata": {
      "needs_background": "light"
     },
     "output_type": "display_data"
    }
   ],
   "source": [
    "# 10. Dự đoán ảnh\n",
    "plt.imshow(X_test[0].reshape(28,28), cmap='gray')\n",
    "\n",
    "y_predict = model.predict(X_test[0].reshape(1,28,28,1))\n",
    "print('Giá trị dự đoán: ', np.argmax(y_predict))"
   ]
  },
  {
   "cell_type": "code",
   "execution_count": null,
   "metadata": {},
   "outputs": [],
   "source": []
  }
 ],
 "metadata": {
  "accelerator": "GPU",
  "colab": {
   "collapsed_sections": [],
   "name": "mnist.ipynb",
   "provenance": [],
   "version": "0.3.2"
  },
  "kernelspec": {
   "display_name": "Python 3",
   "language": "python",
   "name": "python3"
  },
  "language_info": {
   "codemirror_mode": {
    "name": "ipython",
    "version": 3
   },
   "file_extension": ".py",
   "mimetype": "text/x-python",
   "name": "python",
   "nbconvert_exporter": "python",
   "pygments_lexer": "ipython3",
   "version": "3.7.1"
  }
 },
 "nbformat": 4,
 "nbformat_minor": 1
}
